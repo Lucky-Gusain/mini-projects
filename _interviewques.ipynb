{
 "cells": [
  {
   "cell_type": "code",
   "execution_count": 14,
   "id": "1c3a1dab-6442-409f-9a41-81fb2e32c5b5",
   "metadata": {},
   "outputs": [
    {
     "name": "stdin",
     "output_type": "stream",
     "text": [
      "Enter the numbers: 123\n"
     ]
    },
    {
     "name": "stdout",
     "output_type": "stream",
     "text": [
      "its not a  palindrome\n"
     ]
    }
   ],
   "source": [
    "##2.Check the number is palindrome or not:\n",
    "num=int(input(\"Enter the numbers:\"))\n",
    "\n",
    "num1=str(num)\n",
    "str1=num1[::-1]\n",
    "if str1==str:\n",
    "    print(f\"{num} is a palindrome\")\n",
    "else:\n",
    "    print(\"its not a  palindrome\")"
   ]
  },
  {
   "cell_type": "code",
   "execution_count": 6,
   "id": "8f5482b3-dad9-41e6-a7e5-fb9548529778",
   "metadata": {},
   "outputs": [
    {
     "name": "stdin",
     "output_type": "stream",
     "text": [
      "Enter the number: 4\n"
     ]
    },
    {
     "name": "stdout",
     "output_type": "stream",
     "text": [
      "the number is prime\n",
      "the number is not prime\n"
     ]
    }
   ],
   "source": [
    "##5.check if a number is prime or not\n",
    "num=int(input(\"Enter the number:\"))\n",
    "for i in range(2,num):\n",
    "    if(num%i==0):\n",
    "        print(\"the number is prime\")\n",
    "    else:\n",
    "        print(\"the number is not prime\")"
   ]
  },
  {
   "cell_type": "code",
   "execution_count": 9,
   "id": "b51b1c0c-280c-4657-a156-f4c43f9f8729",
   "metadata": {},
   "outputs": [
    {
     "name": "stdin",
     "output_type": "stream",
     "text": [
      "Enter the word hello\n"
     ]
    },
    {
     "name": "stdout",
     "output_type": "stream",
     "text": [
      "number of vowels 2\n"
     ]
    }
   ],
   "source": [
    "##7.count vowels in a string\n",
    "word=str(input(\"Enter the word\"))\n",
    "vowels=\"aeiouAEIOU\"\n",
    "count=0\n",
    "for ch in word:\n",
    "    if ch in vowels:\n",
    "        count+=1\n",
    "print(\"number of vowels\",count)\n",
    "\n",
    "\n"
   ]
  },
  {
   "cell_type": "code",
   "execution_count": 9,
   "id": "d2d90b45-c754-4b71-aea0-7f393f11ae7c",
   "metadata": {},
   "outputs": [
    {
     "name": "stdout",
     "output_type": "stream",
     "text": [
      "the list is sorted\n"
     ]
    }
   ],
   "source": [
    "##30.Check if a list sorted\n",
    "check=[2,3,4]\n",
    "# check=list(input(\"Enter the List:\"))\n",
    "if(check==sorted(check)):\n",
    "    print(\"the list is sorted\")\n",
    "else:\n",
    "    print(\"the list is not sorted\")"
   ]
  },
  {
   "cell_type": "code",
   "execution_count": 5,
   "id": "cf77e1a8-c8fc-485a-93cb-6a467dde9d32",
   "metadata": {},
   "outputs": [
    {
     "name": "stdin",
     "output_type": "stream",
     "text": [
      "Enter the string: bye\n"
     ]
    },
    {
     "name": "stdout",
     "output_type": "stream",
     "text": [
      "3\n"
     ]
    }
   ],
   "source": [
    "##23.Count number of words in a string\n",
    "word=str(input(\"Enter the string:\"))\n",
    "print(len(word))\n"
   ]
  },
  {
   "cell_type": "code",
   "execution_count": 1,
   "id": "edc579e1-4c80-4c0a-8bcc-5da0d2493c76",
   "metadata": {},
   "outputs": [
    {
     "name": "stdin",
     "output_type": "stream",
     "text": [
      "Enter the list elemnts [6,7,3,5]\n",
      "Enter element to be find 3\n"
     ]
    },
    {
     "name": "stdout",
     "output_type": "stream",
     "text": [
      "1\n"
     ]
    }
   ],
   "source": [
    "##16.count occurence of  elements in a list\n",
    "occ=list(input(\"Enter the list elemnts\"))\n",
    "print(occ.count(input(\"Enter element to be find\")))\n"
   ]
  },
  {
   "cell_type": "code",
   "execution_count": 7,
   "id": "c1a2398e-fbd1-40c2-a464-8b1bd5aa7ce4",
   "metadata": {},
   "outputs": [
    {
     "name": "stdout",
     "output_type": "stream",
     "text": [
      "The merge list is: [0, 2, 4, 5, 6, 6, 7]\n"
     ]
    }
   ],
   "source": [
    "##10.Merge two sorted list\n",
    "list1=[2,5,6]\n",
    "list1.sort()\n",
    "list2=[0,6,4,7]\n",
    "list2.sort()\n",
    "merge_list= sorted(list1+list2)\n",
    "print(\"The merge list is:\",merge_list)"
   ]
  },
  {
   "cell_type": "code",
   "execution_count": 5,
   "id": "cff812d5-bf96-46fa-afdf-356e86b5ad38",
   "metadata": {},
   "outputs": [
    {
     "name": "stdin",
     "output_type": "stream",
     "text": [
      "Enter a string: lucky\n"
     ]
    },
    {
     "name": "stdout",
     "output_type": "stream",
     "text": [
      "Reverse String: ykcul\n"
     ]
    }
   ],
   "source": [
    "##1.Reverse a string\n",
    "string = input('Enter a string:')\n",
    "reverse_string=string[::-1]\n",
    "print('Reverse String:',reverse_string)"
   ]
  },
  {
   "cell_type": "code",
   "execution_count": 6,
   "id": "d54c62af-29ac-45b5-a809-1e4a3bd9ed25",
   "metadata": {},
   "outputs": [
    {
     "name": "stdin",
     "output_type": "stream",
     "text": [
      "Enter a number: 6\n"
     ]
    },
    {
     "name": "stdout",
     "output_type": "stream",
     "text": [
      "Factorial of 6 is 720\n"
     ]
    }
   ],
   "source": [
    "##3.find factorial using recursion\n",
    "def Factorial(n):\n",
    "  if n==0 or n==1:\n",
    "    return 1\n",
    "  else:\n",
    "    return n*Factorial(n-1)\n",
    "num = int(input('Enter a number:'))\n",
    "if num<0:\n",
    "  print('Factorial no. is not defined for negative numbers')\n",
    "else:\n",
    "  print('Factorial of',num,'is',Factorial(num))\n"
   ]
  },
  {
   "cell_type": "code",
   "execution_count": 9,
   "id": "08b3d6ae-6940-4a70-b4e5-090b130e2d12",
   "metadata": {},
   "outputs": [
    {
     "name": "stdin",
     "output_type": "stream",
     "text": [
      "Enter a number: 4\n"
     ]
    },
    {
     "name": "stdout",
     "output_type": "stream",
     "text": [
      "Fibonacci series of 4 is [0, 1, 1, 2]\n"
     ]
    }
   ],
   "source": [
    "##4.Fibonacci serires\n",
    "def Fibonacci_series(n):\n",
    "  fib_series=[]\n",
    "  a,b=0,1\n",
    "  for i in range(n):\n",
    "    fib_series.append(a)\n",
    "    a,b=b,a+b\n",
    "  return fib_series\n",
    "\n",
    "num = int(input('Enter a number:'))\n",
    "\n",
    "print('Fibonacci series of',num,'is',Fibonacci_series(num))"
   ]
  },
  {
   "cell_type": "code",
   "execution_count": 13,
   "id": "6191228c-1af5-4e30-915c-d419b8b0c6ba",
   "metadata": {},
   "outputs": [
    {
     "name": "stdout",
     "output_type": "stream",
     "text": [
      "Duplicate elements in the list are []\n"
     ]
    }
   ],
   "source": [
    "##8.Find duplicate elements in a list\n",
    "def fin_duplicates(lst):\n",
    "  seen=set()\n",
    "  duplicates = set()\n",
    "  for item in lst:\n",
    "    if item in seen:\n",
    "      duplicates.add(item)\n",
    "    else:\n",
    "      seen.add(item)\n",
    "    return list(duplicates)\n",
    "my_list = [1,2,3,4,5,6,5,2,6,3,2]\n",
    "print(f\"Duplicate elements in the list are {fin_duplicates(my_list)}\")"
   ]
  },
  {
   "cell_type": "code",
   "execution_count": 14,
   "id": "284764bb-67d9-437f-ba07-b8ba2ac5b212",
   "metadata": {},
   "outputs": [
    {
     "name": "stdin",
     "output_type": "stream",
     "text": [
      "Enter first string:  lucky\n",
      "Enter second string:  gusain\n"
     ]
    },
    {
     "name": "stdout",
     "output_type": "stream",
     "text": [
      "The strings are not anagrams.\n"
     ]
    }
   ],
   "source": [
    "##9.check if two strings are anagrams\n",
    "def are_anagrams(str1, str2):\n",
    "    str1 = str1.replace(\" \", \"\").lower()\n",
    "    str2 = str2.replace(\" \", \"\").lower()\n",
    "    return sorted(str1) == sorted(str2)\n",
    "string1 = input(\"Enter first string: \")\n",
    "string2 = input(\"Enter second string: \")\n",
    "if are_anagrams(string1, string2):\n",
    "    print(\"The strings are anagrams.\")\n",
    "else:\n",
    "    print(\"The strings are not anagrams.\")"
   ]
  },
  {
   "cell_type": "code",
   "execution_count": 16,
   "id": "22fe3c87-7ad0-41ab-a583-ab4bb0ce97ec",
   "metadata": {},
   "outputs": [
    {
     "name": "stdin",
     "output_type": "stream",
     "text": [
      "Enter the number: 444\n"
     ]
    },
    {
     "name": "stdout",
     "output_type": "stream",
     "text": [
      "444 is not an Armstrong number.\n"
     ]
    }
   ],
   "source": [
    "##12.Armstrong number\n",
    "num = int(input('Enter the number:'))\n",
    "num_str = str(num)\n",
    "n = len(num_str)\n",
    "sum_of_power = sum(int(digit) ** n for digit in num_str)\n",
    "if sum_of_power == num:\n",
    "    print(f\"{num} is an Armstrong number.\")\n",
    "else:\n",
    "    print(f\"{num} is not an Armstrong number.\")"
   ]
  },
  {
   "cell_type": "code",
   "execution_count": 17,
   "id": "abdf28cb-63a3-4fb7-a4a5-cb824e68987a",
   "metadata": {},
   "outputs": [
    {
     "name": "stdin",
     "output_type": "stream",
     "text": [
      "Enter a sentence:  lucky\n"
     ]
    },
    {
     "name": "stdout",
     "output_type": "stream",
     "text": [
      "The sentence is not a pangram.\n"
     ]
    }
   ],
   "source": [
    "##Check if a string is pangram\n",
    "import string\n",
    "def is_pangram(sentence):\n",
    "    sentence = sentence.lower()\n",
    "    alphabet = set(string.ascii_lowercase)\n",
    "    sentence_set = set(sentence)\n",
    "    return alphabet.issubset(sentence_set)\n",
    "text = input(\"Enter a sentence: \")\n",
    "if is_pangram(text):\n",
    "    print(\"The sentence is a pangram.\")\n",
    "else:\n",
    "    print(\"The sentence is not a pangram.\")\n"
   ]
  },
  {
   "cell_type": "code",
   "execution_count": 20,
   "id": "d1f4fe25-9318-484a-ae31-e532bc72b0cb",
   "metadata": {},
   "outputs": [
    {
     "name": "stdin",
     "output_type": "stream",
     "text": [
      "Enter the items :  1,6,3,8,07\n"
     ]
    },
    {
     "name": "stdout",
     "output_type": "stream",
     "text": [
      "List with duplicates removed: ['1,6,3,8,07']\n"
     ]
    }
   ],
   "source": [
    "##14.Remove duplicate elements\n",
    "items = input(\"Enter the items : \").split()\n",
    "unique_items = list(set(items))\n",
    "print(\"List with duplicates removed:\", unique_items)"
   ]
  },
  {
   "cell_type": "code",
   "execution_count": 24,
   "id": "a5f511be-b0da-4643-b9c2-99c9be12f1fd",
   "metadata": {},
   "outputs": [
    {
     "name": "stdin",
     "output_type": "stream",
     "text": [
      "Enter the numbers (space-separated):  54\n"
     ]
    },
    {
     "name": "stdout",
     "output_type": "stream",
     "text": [
      "There is no second largest number.\n"
     ]
    }
   ],
   "source": [
    "##15.Find the second largest number in a list\n",
    "num = list(map(int, input(\"Enter the numbers (space-separated): \").split()))\n",
    "first = second = float('-inf')\n",
    "for n in num:\n",
    "  if n > first:\n",
    "    second = first\n",
    "    first = num\n",
    "  elif first > num > second:\n",
    "    second = num\n",
    "\n",
    "if second == float('-inf'):\n",
    "  print(\"There is no second largest number.\")\n",
    "else:\n",
    "  print(\"The second largest number is:\", second)"
   ]
  },
  {
   "cell_type": "code",
   "execution_count": 26,
   "id": "713efa9a-f6cf-42ec-b688-901d0061d5fd",
   "metadata": {},
   "outputs": [
    {
     "name": "stdout",
     "output_type": "stream",
     "text": [
      "Transpose of matrix:\n",
      "[7, 8]\n",
      "[9, 6]\n",
      "[0, 3]\n"
     ]
    }
   ],
   "source": [
    "##17.Transpose a matrix\n",
    "matrix = [\n",
    "    [7, 9, 0],\n",
    "    [8, 6, 3]\n",
    "]\n",
    "# Transpose using zip and list comprehension\n",
    "transpose = [list(row) for row in zip(*matrix)]\n",
    "# Print the result\n",
    "print(\"Transpose of matrix:\")\n",
    "for row in transpose:\n",
    "    print(row)\n"
   ]
  },
  {
   "cell_type": "code",
   "execution_count": 28,
   "id": "d4ab8122-9e75-4c74-93c2-a01cfc88614d",
   "metadata": {},
   "outputs": [
    {
     "name": "stdin",
     "output_type": "stream",
     "text": [
      "Enter the first list:  hi hello\n",
      "Enter the second list:  hi lucky there\n"
     ]
    },
    {
     "name": "stdout",
     "output_type": "stream",
     "text": [
      "Intersection of the lists: ['hi']\n"
     ]
    }
   ],
   "source": [
    "##Find intersection of two lists\n",
    "list1 = input(\"Enter the first list: \").split()\n",
    "list2 = input(\"Enter the second list: \").split()\n",
    "intersection = list(set(list1) & set(list2))\n",
    "print(\"Intersection of the lists:\", intersection)\n"
   ]
  },
  {
   "cell_type": "code",
   "execution_count": null,
   "id": "64004462-def8-46ba-a635-4f61711c0c9a",
   "metadata": {},
   "outputs": [],
   "source": []
  }
 ],
 "metadata": {
  "kernelspec": {
   "display_name": "Python 3 (ipykernel)",
   "language": "python",
   "name": "python3"
  },
  "language_info": {
   "codemirror_mode": {
    "name": "ipython",
    "version": 3
   },
   "file_extension": ".py",
   "mimetype": "text/x-python",
   "name": "python",
   "nbconvert_exporter": "python",
   "pygments_lexer": "ipython3",
   "version": "3.13.5"
  }
 },
 "nbformat": 4,
 "nbformat_minor": 5
}
